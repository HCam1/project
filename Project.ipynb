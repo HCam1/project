{
 "cells": [
  {
   "cell_type": "code",
   "execution_count": 1,
   "metadata": {},
   "outputs": [],
   "source": [
    "import numpy as np"
   ]
  },
  {
   "cell_type": "code",
   "execution_count": 43,
   "metadata": {},
   "outputs": [],
   "source": [
    "def create_matrix(N):\n",
    "\n",
    "\n",
    "    M = np.ones((N,N))\n",
    "\n",
    "    for i in range(0,N):\n",
    "        for j in range(0,N):\n",
    "            num = np.random.uniform(-1,1)\n",
    "            M[i,j] = np.multiply(M[i,j],np.divide(num,np.absolute(num)))\n",
    "\n",
    "    return M"
   ]
  },
  {
   "cell_type": "code",
   "execution_count": 80,
   "metadata": {},
   "outputs": [
    {
     "data": {
      "text/plain": [
       "30680346300794274230660433647640397899788170645078853280082659754365153181696"
      ]
     },
     "execution_count": 80,
     "metadata": {},
     "output_type": "execute_result"
    }
   ],
   "source": []
  },
  {
   "cell_type": "code",
   "execution_count": 120,
   "metadata": {},
   "outputs": [],
   "source": [
    "def calc_magnetization(matrix):\n",
    "    summation = 0\n",
    "    N = len(matrix)\n",
    "    m = []\n",
    "    m2 = []\n",
    "    for i in range(0,N):\n",
    "        for j in range(0,N):\n",
    "            summation += matrix[i,j]\n",
    "            m.append(matrix[i,j])\n",
    "            m2.append(matrix[i,j]**2)\n",
    "    m_2_bar = np.mean(m2)\n",
    "    m_bar_2 = np.mean(m2)**2\n",
    "    disp = m_2_bar - m_2_bar - m_bar_2\n",
    "    return np.divide(summation, np.multiply(N, N)), disp\n",
    "\n",
    "# def calc_dispersion(matrix):\n",
    "#     m = []\n",
    "    \n",
    "#     for i in range(len(matrices)):\n",
    "#         m2.append(calc_magnetization(matrices[i])**2)\n",
    "#         m.append(calc_magnetization(matrices[i]))\n",
    "#     m_2_bar = np.mean(m2)\n",
    "#     m_bar_2 = np.mean(m2)**2\n",
    "#     disp = m_2_bar - m_2_bar - m_bar_2\n",
    "#     return disp"
   ]
  },
  {
   "cell_type": "code",
   "execution_count": 156,
   "metadata": {},
   "outputs": [
    {
     "name": "stdout",
     "output_type": "stream",
     "text": [
      "-0.1111111111111111\n",
      "-1.0\n"
     ]
    }
   ],
   "source": [
    "b = create_matrix(3)\n",
    "m, disp = calc_magnetization(b)\n",
    "print(m)\n",
    "print(disp)"
   ]
  }
 ],
 "metadata": {
  "kernelspec": {
   "display_name": "Python 3",
   "language": "python",
   "name": "python3"
  },
  "language_info": {
   "codemirror_mode": {
    "name": "ipython",
    "version": 3
   },
   "file_extension": ".py",
   "mimetype": "text/x-python",
   "name": "python",
   "nbconvert_exporter": "python",
   "pygments_lexer": "ipython3",
   "version": "3.6.4"
  }
 },
 "nbformat": 4,
 "nbformat_minor": 2
}
